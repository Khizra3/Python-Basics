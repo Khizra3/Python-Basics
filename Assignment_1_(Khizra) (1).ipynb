{
 "cells": [
  {
   "cell_type": "code",
   "execution_count": 6,
   "id": "c05ed4e1",
   "metadata": {
    "colab": {
     "base_uri": "https://localhost:8080/"
    },
    "id": "c05ed4e1",
    "outputId": "120c8e0d-6531-4255-d08b-2df37ee04c47"
   },
   "outputs": [
    {
     "name": "stdout",
     "output_type": "stream",
     "text": [
      "Enter your age: \n",
      "56\n",
      "Enter your full name: \n",
      "Khizra Hussain\n",
      "Are you a student? \n",
      "No\n",
      "Not a student\n",
      "Khizra Hussain Smith\n",
      "81\n"
     ]
    }
   ],
   "source": [
    "#TASK1:\n",
    "\n",
    "age_1 = int(input(\"Enter your age: \\n\"))\n",
    "name_1 = input(\"Enter your full name: \\n\")\n",
    "\n",
    "y = 'yes'\n",
    "x = input(\"Are you a student? \\n\")\n",
    "if y==x:\n",
    "    print(\"Student\")\n",
    "else:\n",
    "    print(\"Not a student\")\n",
    "\n",
    "name_2 = \"Smith\"\n",
    "print(name_1 + \" \" + name_2)\n",
    "\n",
    "print(age_1 + 25)"
   ]
  },
  {
   "cell_type": "code",
   "execution_count": 5,
   "id": "215b52c5",
   "metadata": {
    "colab": {
     "base_uri": "https://localhost:8080/"
    },
    "id": "215b52c5",
    "outputId": "45d684e3-cb13-4650-da5f-8c563bfeb93f"
   },
   "outputs": [
    {
     "name": "stdout",
     "output_type": "stream",
     "text": [
      "Area of rectangle is 17.875\n"
     ]
    }
   ],
   "source": [
    "#TASK2 a)\n",
    "w = 5.5\n",
    "h = 3.25\n",
    "area = w*h\n",
    "print(f\"Area of rectangle is {area}\")\n",
    "\n"
   ]
  },
  {
   "cell_type": "code",
   "execution_count": 4,
   "id": "9d5acb77",
   "metadata": {
    "colab": {
     "base_uri": "https://localhost:8080/"
    },
    "id": "9d5acb77",
    "outputId": "4cc4d521-7a37-4969-db7e-9e0e10ccae8e"
   },
   "outputs": [
    {
     "name": "stdout",
     "output_type": "stream",
     "text": [
      "What does the tempaerature look like today? \n",
      "58\n",
      "The temperature in Farenheit is 136.4\n"
     ]
    }
   ],
   "source": [
    "#TASK2 b)\n",
    "Celsius = float(input(\"What does the tempaerature look like today? \\n\"))\n",
    "Farenheit = (Celsius * 9/5) + 32\n",
    "print(f\"The temperature in Farenheit is {Farenheit}\")"
   ]
  },
  {
   "cell_type": "code",
   "execution_count": 5,
   "id": "4620070f",
   "metadata": {
    "colab": {
     "base_uri": "https://localhost:8080/"
    },
    "id": "4620070f",
    "outputId": "defbc845-63e1-4c6c-ab15-76b151428a5a"
   },
   "outputs": [
    {
     "name": "stdout",
     "output_type": "stream",
     "text": [
      "Area of circle is 78.54875\n"
     ]
    }
   ],
   "source": [
    "#TASK2 c)\n",
    "radius = 5\n",
    "π = 3.14195\n",
    "area = π*(radius**2)\n",
    "\n",
    "print(f\"Area of circle is {area}\")"
   ]
  },
  {
   "cell_type": "code",
   "execution_count": 6,
   "id": "ad9864ce",
   "metadata": {
    "colab": {
     "base_uri": "https://localhost:8080/"
    },
    "id": "ad9864ce",
    "outputId": "a14b9cfe-f5d4-4d09-b783-663d2fcb75ee"
   },
   "outputs": [
    {
     "name": "stdout",
     "output_type": "stream",
     "text": [
      "['apple', 'banana', 'orange', 'grape', 'kiwi']\n"
     ]
    }
   ],
   "source": [
    "#TASK3 a)\n",
    "fruits = [\"apple\" ,\"banana\" , \"orange\", \"grape\", \"kiwi\"]\n",
    "print(fruits)"
   ]
  },
  {
   "cell_type": "code",
   "execution_count": 7,
   "id": "e5fcc68b",
   "metadata": {
    "colab": {
     "base_uri": "https://localhost:8080/"
    },
    "id": "e5fcc68b",
    "outputId": "aebc6355-8b7a-4a8d-f95c-849984945e59"
   },
   "outputs": [
    {
     "name": "stdout",
     "output_type": "stream",
     "text": [
      "<class 'tuple'>\n",
      "('January', 'February', 'March')\n"
     ]
    }
   ],
   "source": [
    "#Task 3b)\n",
    "months = ('January', 'February', 'March', 'April', 'May', 'June', 'July', 'August' , 'September', 'October', 'Novemeber' , 'December')\n",
    "print(type(months))\n",
    "print(months[0:3])"
   ]
  },
  {
   "cell_type": "code",
   "execution_count": 9,
   "id": "2aeb6798",
   "metadata": {
    "colab": {
     "base_uri": "https://localhost:8080/"
    },
    "id": "2aeb6798",
    "outputId": "b53bf630-8933-48af-99e4-48f2edef3f34"
   },
   "outputs": [
    {
     "name": "stdout",
     "output_type": "stream",
     "text": [
      "426\n",
      "53\n"
     ]
    }
   ],
   "source": [
    "#Task 4 a):\n",
    "\n",
    "numbers = [12, 34, 45, 67, 89, 100, 23, 56]\n",
    "sum_num = sum(numbers)\n",
    "\n",
    "print(sum_num)\n",
    "\n",
    "avg_num = (sum_num//len(numbers))\n",
    "print(avg_num)"
   ]
  },
  {
   "cell_type": "code",
   "execution_count": 10,
   "id": "4509d3fa",
   "metadata": {
    "colab": {
     "base_uri": "https://localhost:8080/"
    },
    "id": "4509d3fa",
    "outputId": "8b35f125-8181-43b7-b20e-08d3ff6351f1"
   },
   "outputs": [
    {
     "name": "stdout",
     "output_type": "stream",
     "text": [
      "['banana', 'orange', 'grape']\n"
     ]
    }
   ],
   "source": [
    "#Task 4 b):\n",
    "fruits = [\"apple\" ,\"banana\" , \"orange\", \"grape\", \"kiwi\"]\n",
    "\n",
    "fruits.pop(0)\n",
    "fruits.pop(3)\n",
    "\n",
    "print(fruits)"
   ]
  },
  {
   "cell_type": "code",
   "execution_count": 11,
   "id": "e726bb5e",
   "metadata": {
    "colab": {
     "base_uri": "https://localhost:8080/"
    },
    "id": "e726bb5e",
    "outputId": "4cb52fa4-5e57-4398-9188-9a853012b57a"
   },
   "outputs": [
    {
     "name": "stdout",
     "output_type": "stream",
     "text": [
      "{'USA': 'Washington D.C.', 'France': 'Paris', 'Japan': 'Tokyo'}\n",
      "{'USA': 'Washington D.C.', 'France': 'Paris', 'Japan': 'Tokyo', 'Germany': 'Berlin'}\n",
      "France is in the Dictionary\n"
     ]
    }
   ],
   "source": [
    "#Task 5 a):\n",
    "Capitals = {\"USA\": \"Washington D.C.\", \"France\": \"Paris\", \"Japan\": \"Tokyo\"}\n",
    "print(Capitals)\n",
    "\n",
    "#Task 5 b):\n",
    "\n",
    "Capitals[\"Germany\"] = \"Berlin\"\n",
    "print(Capitals)\n",
    "\n",
    "if 'France' in Capitals:\n",
    "     print(\"France is in the Dictionary\")\n",
    "else:\n",
    "     print(\"France is not in the Dictionary\")\n",
    "\n"
   ]
  },
  {
   "cell_type": "code",
   "execution_count": 14,
   "id": "ad95c32e",
   "metadata": {
    "colab": {
     "base_uri": "https://localhost:8080/"
    },
    "id": "ad95c32e",
    "outputId": "eac3eb2b-b820-4b95-b9aa-24fdcf5144cb"
   },
   "outputs": [
    {
     "name": "stdout",
     "output_type": "stream",
     "text": [
      "Enter a number: \n",
      "7\n",
      "Number is odd\n"
     ]
    }
   ],
   "source": [
    "#Task 6 a):\n",
    "number = int(input(\"Enter a number: \\n\"))\n",
    "\n",
    "if number%2==0:\n",
    "    print(\"Number is even\")\n",
    "else:\n",
    "    print(\"Number is odd\")"
   ]
  },
  {
   "cell_type": "code",
   "execution_count": 15,
   "id": "8a74297e",
   "metadata": {
    "colab": {
     "base_uri": "https://localhost:8080/"
    },
    "id": "8a74297e",
    "outputId": "46b6d95a-3ae1-4577-a6fb-e149cffbfa80"
   },
   "outputs": [
    {
     "name": "stdout",
     "output_type": "stream",
     "text": [
      "Student is not eigible\n",
      "25\n",
      "3.0\n"
     ]
    }
   ],
   "source": [
    "#Task 6 b):\n",
    "age = 25\n",
    "GPA = 3.0\n",
    "if age<=18 and GPA >=3.0 and GPA <=4.0:\n",
    "    print(\"Student is eligible\\n\")\n",
    "else:\n",
    "    print(\"Student is not eigible\")\n",
    "print(age)\n",
    "print(GPA)"
   ]
  },
  {
   "cell_type": "code",
   "execution_count": 16,
   "id": "b7eb0896",
   "metadata": {
    "colab": {
     "base_uri": "https://localhost:8080/"
    },
    "id": "b7eb0896",
    "outputId": "9c349e24-5b80-44a5-e7a8-609b81af9fba"
   },
   "outputs": [
    {
     "name": "stdout",
     "output_type": "stream",
     "text": [
      "<class 'set'>\n",
      "{'apple', 'grape', 'kiwi', 'orange', 'banana'}\n"
     ]
    }
   ],
   "source": [
    "#Task 7a):\n",
    "fruits_set = {\"apple\", \"banana\", \"orange\" ,\"grape\", \"kiwi\"}\n",
    "print(type(fruits_set))\n",
    "print(fruits_set)"
   ]
  },
  {
   "cell_type": "code",
   "execution_count": 17,
   "id": "d3f8da10",
   "metadata": {
    "colab": {
     "base_uri": "https://localhost:8080/"
    },
    "id": "d3f8da10",
    "outputId": "36199bd0-25fc-4f35-da46-203f6d6b88e0"
   },
   "outputs": [
    {
     "name": "stdout",
     "output_type": "stream",
     "text": [
      "{1, 2, 3, 4, 5, 6, 7}\n",
      "{3, 4, 5}\n",
      "{1, 2}\n",
      "True\n"
     ]
    }
   ],
   "source": [
    "# Task 7 b):\n",
    "set1 = {1, 2, 3, 4, 5}\n",
    "set2 = {3, 4, 5, 6, 7}\n",
    "\n",
    "union_1 = set1.union(set2)\n",
    "print(union_1)\n",
    "\n",
    "intersection_1 = set1.intersection(set2)\n",
    "print(intersection_1)\n",
    "\n",
    "diff_1 = set1.difference(set2)\n",
    "print(diff_1)\n",
    "\n",
    "sub_set = set1.issubset(set1)\n",
    "print(sub_set)"
   ]
  },
  {
   "cell_type": "code",
   "execution_count": null,
   "id": "49478f79",
   "metadata": {
    "id": "49478f79",
    "outputId": "964d5866-cde1-4557-8ed8-bd09e53eb3b4"
   },
   "outputs": [
    {
     "name": "stdout",
     "output_type": "stream",
     "text": [
      "39\n",
      "PYTHON PROGRAMMING IS FUN AND POWERFUL!\n",
      "Python programming is exciting and powerful!\n",
      "Index of substring 'Python' is 0\n"
     ]
    }
   ],
   "source": [
    "#Task 8:\n",
    "var_1 = \"Python programming is fun and powerful!\"\n",
    "\n",
    "x = len(var_1)\n",
    "print(x)\n",
    "\n",
    "y = var_1.upper()\n",
    "print(y)\n",
    "\n",
    "new_var = var_1.replace(\"fun\", \"exciting\")\n",
    "print(new_var)\n",
    "\n",
    "var_find = var_1.find(\"Python\")\n",
    "print(f\"Index of substring 'Python' is {var_find}\")"
   ]
  },
  {
   "cell_type": "code",
   "execution_count": 3,
   "id": "d2019aeb",
   "metadata": {
    "id": "d2019aeb"
   },
   "outputs": [
    {
     "name": "stdout",
     "output_type": "stream",
     "text": [
      "That's all Folks!\n",
      " (\\_/)\n",
      "(=^.^=)\n",
      "(\")_(\")\n"
     ]
    }
   ],
   "source": [
    "print(\"That's all Folks!\")\n",
    "print(' (\\_/)')\n",
    "print('(=^.^=)')\n",
    "print('(\")_(\")')"
   ]
  },
  {
   "cell_type": "code",
   "execution_count": null,
   "id": "f5800b7d",
   "metadata": {},
   "outputs": [],
   "source": []
  }
 ],
 "metadata": {
  "colab": {
   "provenance": []
  },
  "kernelspec": {
   "display_name": "Python 3 (ipykernel)",
   "language": "python",
   "name": "python3"
  },
  "language_info": {
   "codemirror_mode": {
    "name": "ipython",
    "version": 3
   },
   "file_extension": ".py",
   "mimetype": "text/x-python",
   "name": "python",
   "nbconvert_exporter": "python",
   "pygments_lexer": "ipython3",
   "version": "3.11.5"
  }
 },
 "nbformat": 4,
 "nbformat_minor": 5
}
